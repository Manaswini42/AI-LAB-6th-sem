{
 "cells": [
  {
   "cell_type": "code",
   "execution_count": 1,
   "id": "6aab88d6",
   "metadata": {},
   "outputs": [
    {
     "name": "stdout",
     "output_type": "stream",
     "text": [
      "Defaulting to user installation because normal site-packages is not writeable\n",
      "Requirement already satisfied: gym in c:\\users\\mca\\appdata\\roaming\\python\\python39\\site-packages (0.26.2)\n",
      "Requirement already satisfied: cloudpickle>=1.2.0 in c:\\programdata\\anaconda3\\lib\\site-packages (from gym) (2.0.0)\n",
      "Requirement already satisfied: gym_notices>=0.0.4 in c:\\users\\mca\\appdata\\roaming\\python\\python39\\site-packages (from gym) (0.0.8)\n",
      "Requirement already satisfied: importlib_metadata>=4.8.0 in c:\\programdata\\anaconda3\\lib\\site-packages (from gym) (4.11.3)\n",
      "Requirement already satisfied: numpy>=1.18.0 in c:\\users\\mca\\appdata\\roaming\\python\\python39\\site-packages (from gym) (1.26.4)\n",
      "Requirement already satisfied: zipp>=0.5 in c:\\programdata\\anaconda3\\lib\\site-packages (from importlib_metadata>=4.8.0->gym) (3.7.0)\n",
      "Note: you may need to restart the kernel to use updated packages.\n"
     ]
    }
   ],
   "source": [
    "pip install gym"
   ]
  },
  {
   "cell_type": "markdown",
   "id": "5d17ce2c",
   "metadata": {},
   "source": [
    "# CartPole-v0 Environment"
   ]
  },
  {
   "cell_type": "markdown",
   "id": "7a679f57",
   "metadata": {},
   "source": [
    "# IMPORT REQUIRED LIBRARIES"
   ]
  },
  {
   "cell_type": "code",
   "execution_count": 22,
   "id": "51af3ce7",
   "metadata": {},
   "outputs": [],
   "source": [
    "import gym\n",
    "import matplotlib.pyplot as plt\n",
    "import time\n",
    "from PIL import Image\n",
    "import numpy as np"
   ]
  },
  {
   "cell_type": "code",
   "execution_count": 10,
   "id": "0f6ca070",
   "metadata": {},
   "outputs": [],
   "source": [
    "env = gym.make(\"CartPole-v1\",render_mode =\"human\")"
   ]
  },
  {
   "cell_type": "markdown",
   "id": "5bd5466c",
   "metadata": {},
   "source": [
    "# A) IMPLEMENT CARTPOLE ENVIRONMENT FOR CERTAIN NUMBER OF STEPS"
   ]
  },
  {
   "cell_type": "code",
   "execution_count": 11,
   "id": "736b14ee",
   "metadata": {},
   "outputs": [
    {
     "name": "stdout",
     "output_type": "stream",
     "text": [
      "Running for 100 steps...\n",
      "Total reward for 100 steps: 100.0\n"
     ]
    }
   ],
   "source": [
    "print(\"Running for 100 steps...\")\n",
    "obs = env.reset()\n",
    "step_rewards =[]\n",
    "step_obs=[]\n",
    "step_info =[]\n",
    "frames=[]\n",
    "total_reward=0\n",
    "num_steps=100\n",
    "for i in range(num_steps):\n",
    "    env.render()\n",
    "    obs, reward, done, truncated, info = env.step(env.action_space.sample())  # Unpack 5 values\n",
    "    total_reward += reward\n",
    "    step_obs.append(obs)\n",
    "    step_info.append(info)\n",
    "    time.sleep(0.001)\n",
    "    if done or truncated:\n",
    "        env.reset()\n",
    "step_rewards.append(total_reward)\n",
    "print(f\"Total reward for 100 steps: {total_reward}\")\n",
    "env.close()"
   ]
  },
  {
   "cell_type": "markdown",
   "id": "b2c96ac1",
   "metadata": {},
   "source": [
    "# B) IMPLEMENT CARTPOLE ENVIRONMENT FOR CERTAIN NUMBER OF EPISODES"
   ]
  },
  {
   "cell_type": "code",
   "execution_count": 12,
   "id": "87ed1758",
   "metadata": {},
   "outputs": [
    {
     "name": "stdout",
     "output_type": "stream",
     "text": [
      "\n",
      "Running for 5 episodes...\n",
      "Reward for episode 14.0\n",
      "Reward for episode 36.0\n",
      "Reward for episode 46.0\n",
      "Reward for episode 25.0\n",
      "Reward for episode 28.0\n"
     ]
    }
   ],
   "source": [
    "env = gym.make('CartPole-v1',render_mode=\"human\")\n",
    "print(\"\\nRunning for 5 episodes...\")\n",
    "episode_rewards = []\n",
    "episode_obs = []\n",
    "episode_infos = []\n",
    "num_episodes=5\n",
    "for episode in range(num_episodes):\n",
    "    obs = env.reset()\n",
    "    total_reward = 0\n",
    "    done = False\n",
    "    while not done:\n",
    "        obs, reward, done,truncated,info = env.step(env.action_space.sample())  # Take a random action\n",
    "        total_reward += reward\n",
    "        episode_obs.append(obs)  \n",
    "        episode_infos.append(info)  \n",
    "        time.sleep(0.001)\n",
    "    episode_rewards.append(total_reward)\n",
    "    print(f\"Reward for episode {total_reward}\")\n",
    "\n",
    "env.close()"
   ]
  },
  {
   "cell_type": "markdown",
   "id": "cf656e7b",
   "metadata": {},
   "source": [
    "# C) COMPARE AND COMMENT ON THE REWARD EARNED FOR BOTH THE APPROACHES"
   ]
  },
  {
   "cell_type": "code",
   "execution_count": 15,
   "id": "a03c1b43",
   "metadata": {},
   "outputs": [
    {
     "name": "stdout",
     "output_type": "stream",
     "text": [
      "\n",
      "Comparison of rewards:\n",
      "Total reward for 100 steps: 100.0\n",
      "Average reward per episode: 29.8\n"
     ]
    }
   ],
   "source": [
    "print(\"\\nComparison of rewards:\")\n",
    "print(f\"Total reward for 100 steps: {step_rewards[0]}\")\n",
    "print(f\"Average reward per episode: {sum(episode_rewards) / len(episode_rewards)}\")"
   ]
  },
  {
   "cell_type": "markdown",
   "id": "bfe41707",
   "metadata": {},
   "source": [
    "THE APPROACH WHERE WE IMPLEMENT CARTPOLE ENVIRONMENT FOR A NUMBER OF STEPS PERFORMS WELL IN SHORT TERM WITH A HIGH REWARD OF 100.0 AS IT PRIORITIZES ACTIONS THAT MAXIMISE IMMEDIATE REWARDS. THE DRAWBACK OF THIS APPROACH IS THAT IT DOES NOT PRIORITISE ADAPTABILTY IN THE LONGER RUN WHILE THE APPROACH WHERE WE IMPLEMENT IT FOR A NUMBER FOR EPISODES HAS LOWER REWARDS OF 29.8 COMPARITIVELY INDICATING BETTER PERFORMANCE IN THE LONGER TERM.THE FIRST METHOD GIVES IMPORTANCE TO SHORT-TERM EFFICIENCY WHILE THE SECOND METHOD GIVES IMPORTANCE TO STABILITY AND ADAPTABILITY OVER LONG TERM."
   ]
  },
  {
   "cell_type": "markdown",
   "id": "dd582956",
   "metadata": {},
   "source": [
    "# D) PLOT THE CUMMULATIVE REWARDS OF THE GAINS AND NOTE DOWN THE RESULTS"
   ]
  },
  {
   "cell_type": "code",
   "execution_count": 14,
   "id": "6945bfce",
   "metadata": {},
   "outputs": [
    {
     "data": {
      "image/png": "[encoded data removed]",
      "text/plain": [
       "<Figure size 720x360 with 2 Axes>"
      ]
     },
     "metadata": {
      "needs_background": "light"
     },
     "output_type": "display_data"
    }
   ],
   "source": [
    "# Plotting the cumulative rewards\n",
    "plt.figure(figsize=(10, 5))\n",
    "\n",
    "# Cumulative rewards for steps (100 steps)\n",
    "plt.subplot(1, 2, 1)\n",
    "plt.bar([1], step_rewards, color='blue', label='100 Steps')\n",
    "plt.title(\"Cumulative Reward (100 Steps)\")\n",
    "plt.ylabel(\"Total Reward\")\n",
    "plt.xticks([1], ['100 Steps'])\n",
    "plt.legend()\n",
    "\n",
    "# Cumulative rewards for episodes (5 episodes)\n",
    "plt.subplot(1, 2, 2)\n",
    "plt.bar(range(1, num_episodes + 1), episode_rewards, color='green', label='Episodes')\n",
    "plt.title(\"Cumulative Rewards (5 Episodes)\")\n",
    "plt.xlabel(\"Episode\")\n",
    "plt.ylabel(\"Total Reward\")\n",
    "plt.legend()\n",
    "\n",
    "plt.tight_layout()\n",
    "plt.show()"
   ]
  },
  {
   "cell_type": "markdown",
   "id": "9a5f62e5",
   "metadata": {},
   "source": [
    "The total reward for 100 steps is 100.0 and the total reward for no of episodes is given as follows: \n",
    "episode 1: 14.0\n",
    "episode 2: 36.0\n",
    "episode 3: 46.0\n",
    "episode 4: 25.0\n",
    "episode 5: 28.0"
   ]
  },
  {
   "cell_type": "markdown",
   "id": "19d97526",
   "metadata": {},
   "source": [
    "#  THE GAME AS AN IMAGE"
   ]
  },
  {
   "cell_type": "code",
   "execution_count": 24,
   "id": "7866df41",
   "metadata": {},
   "outputs": [
    {
     "data": {
      "image/png": "[encoded data removed]",
      "text/plain": [
       "<Figure size 432x288 with 1 Axes>"
      ]
     },
     "metadata": {
      "needs_background": "light"
     },
     "output_type": "display_data"
    }
   ],
   "source": [
    "env = gym.make('CartPole-v1', render_mode=\"rgb_array\") \n",
    "obs = env.reset()\n",
    "obs, reward, done, truncated, info = env.step(env.action_space.sample())  # Random action\n",
    "frame = env.render()  \n",
    "plt.imshow(frame)\n",
    "plt.axis('off') \n",
    "plt.show() \n",
    "env.close()"
   ]
  },
  {
   "cell_type": "markdown",
   "id": "216b87b9",
   "metadata": {},
   "source": [
    "# MountainCar-v0 Environment"
   ]
  },
  {
   "cell_type": "markdown",
   "id": "955715ad",
   "metadata": {},
   "source": [
    "# A) IMPLEMENT MOUNTAIN CAR ENVIRONMENT FOR CERTAIN NUMBER OF STEPS"
   ]
  },
  {
   "cell_type": "code",
   "execution_count": 29,
   "id": "3f544953",
   "metadata": {},
   "outputs": [
    {
     "name": "stdout",
     "output_type": "stream",
     "text": [
      "Total reward for 100 steps: -100.0\n"
     ]
    }
   ],
   "source": [
    "env = gym.make('MountainCar-v0',render_mode=\"human\")\n",
    "# Part (c) - Rewards for 100 steps\n",
    "step_rewards = []\n",
    "obs = env.reset()  # Reset the environment at the start\n",
    "total_reward = 0\n",
    "num_steps = 100\n",
    "\n",
    "for i in range(num_steps):\n",
    "    obs, reward, done, truncated, info = env.step(env.action_space.sample())  # Take random action\n",
    "    total_reward += reward  # Accumulate rewards\n",
    "    if done or truncated:\n",
    "        obs = env.reset()  # Reset if done or truncated\n",
    "step_rewards.append(total_reward)\n",
    "print(f\"Total reward for 100 steps: {total_reward}\")\n",
    "env.close()"
   ]
  },
  {
   "cell_type": "markdown",
   "id": "b07752d7",
   "metadata": {},
   "source": [
    "# B) IMPLEMENTING MOUNTAIN CAR ENVIRONMENT FOR CERTAIN NUMBER OF EPISODES"
   ]
  },
  {
   "cell_type": "code",
   "execution_count": 27,
   "id": "49b1c83c",
   "metadata": {},
   "outputs": [
    {
     "name": "stdout",
     "output_type": "stream",
     "text": [
      "Reward for episode -200.0\n",
      "Reward for episode -200.0\n",
      "Reward for episode -200.0\n",
      "Reward for episode -200.0\n",
      "Reward for episode -200.0\n"
     ]
    }
   ],
   "source": [
    "env = gym.make('MountainCar-v0',render_mode=\"human\")\n",
    "episode_rewards = []\n",
    "num_episodes = 5\n",
    "for episode in range(num_episodes):\n",
    "    obs = env.reset()  # Reset the environment at the start of each episode\n",
    "    total_reward = 0\n",
    "    done = False\n",
    "    while not done:\n",
    "        obs, reward, done, truncated, info = env.step(env.action_space.sample())  # Take random action\n",
    "        total_reward += reward  # Accumulate rewards\n",
    "        if done or truncated:\n",
    "            break  # End the episode if done or truncated\n",
    "    episode_rewards.append(total_reward)\n",
    "    print(f\"Reward for episode {total_reward}\")\n",
    "\n",
    "env.close()  # Close the rendering window"
   ]
  },
  {
   "cell_type": "markdown",
   "id": "24137204",
   "metadata": {},
   "source": [
    "# C) COMPARE AND COMMENT ON THE REWARD EARNED FOR BOTH THE APPROACHES"
   ]
  },
  {
   "cell_type": "code",
   "execution_count": 30,
   "id": "d30d03ca",
   "metadata": {},
   "outputs": [
    {
     "name": "stdout",
     "output_type": "stream",
     "text": [
      "\n",
      "Comparison of rewards:\n",
      "Total reward for 100 steps: -100.0\n",
      "Average reward per episode: -200.0\n"
     ]
    }
   ],
   "source": [
    "print(\"\\nComparison of rewards:\")\n",
    "print(f\"Total reward for 100 steps: {step_rewards[0]}\")\n",
    "print(f\"Average reward per episode: {sum(episode_rewards) / len(episode_rewards)}\")"
   ]
  },
  {
   "cell_type": "markdown",
   "id": "71e43900",
   "metadata": {},
   "source": [
    "The total reward for 100 steps is -100, and the average reward per episode is -200, which suggests the agent is struggling to make progress. This is due to inefficient exploration, inappropriate action selection, or insufficient learning."
   ]
  },
  {
   "cell_type": "markdown",
   "id": "395c0a5f",
   "metadata": {},
   "source": [
    "# D) PLOT THE CUMMULATIVE REWARDS OF THE GAINS AND NOTE DOWN THE RESULTS"
   ]
  },
  {
   "cell_type": "code",
   "execution_count": 31,
   "id": "41423e82",
   "metadata": {},
   "outputs": [
    {
     "data": {
      "image/png": "[encoded data removed]",
      "text/plain": [
       "<Figure size 720x360 with 2 Axes>"
      ]
     },
     "metadata": {
      "needs_background": "light"
     },
     "output_type": "display_data"
    }
   ],
   "source": [
    "# Plotting the cumulative rewards\n",
    "plt.figure(figsize=(10, 5))\n",
    "\n",
    "# Cumulative rewards for steps (100 steps)\n",
    "plt.subplot(1, 2, 1)\n",
    "plt.bar([1], step_rewards, color='blue', label='100 Steps')\n",
    "plt.title(\"Cumulative Reward (100 Steps)\")\n",
    "plt.ylabel(\"Total Reward\")\n",
    "plt.xticks([1], ['100 Steps'])\n",
    "plt.legend()\n",
    "\n",
    "# Cumulative rewards for episodes (5 episodes)\n",
    "plt.subplot(1, 2, 2)\n",
    "plt.bar(range(1, num_episodes + 1), episode_rewards, color='green', label='Episodes')\n",
    "plt.title(\"Cumulative Rewards (5 Episodes)\")\n",
    "plt.xlabel(\"Episode\")\n",
    "plt.ylabel(\"Total Reward\")\n",
    "plt.legend()\n",
    "\n",
    "plt.tight_layout()\n",
    "plt.show()"
   ]
  },
  {
   "cell_type": "markdown",
   "id": "f5a21a63",
   "metadata": {},
   "source": [
    "The total reward for 100 steps is -100.0 and the total reward for each episode is -200.0 for all 5 episodes"
   ]
  },
  {
   "cell_type": "markdown",
   "id": "43e3c3a1",
   "metadata": {},
   "source": [
    "# THE GAME AS AN IMAGE"
   ]
  },
  {
   "cell_type": "code",
   "execution_count": 32,
   "id": "a6cf2bdd",
   "metadata": {},
   "outputs": [
    {
     "data": {
      "image/png": "[encoded data removed]",
      "text/plain": [
       "<Figure size 432x288 with 1 Axes>"
      ]
     },
     "metadata": {
      "needs_background": "light"
     },
     "output_type": "display_data"
    }
   ],
   "source": [
    "env = gym.make('MountainCar-v0', render_mode=\"rgb_array\") \n",
    "obs = env.reset()\n",
    "obs, reward, done, truncated, info = env.step(env.action_space.sample())\n",
    "frame = env.render()  \n",
    "plt.imshow(frame)\n",
    "plt.axis('off') \n",
    "plt.show() \n",
    "env.close()"
   ]
  }
 ],
 "metadata": {
  "kernelspec": {
   "display_name": "Python 3 (ipykernel)",
   "language": "python",
   "name": "python3"
  },
  "language_info": {
   "codemirror_mode": {
    "name": "ipython",
    "version": 3
   },
   "file_extension": ".py",
   "mimetype": "text/x-python",
   "name": "python",
   "nbconvert_exporter": "python",
   "pygments_lexer": "ipython3",
   "version": "3.9.12"
  }
 },
 "nbformat": 4,
 "nbformat_minor": 5
}
